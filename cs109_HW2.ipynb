{
 "cells": [
  {
   "cell_type": "markdown",
   "metadata": {},
   "source": [
    "# Homework 2: More Exploratory Data Analysis\n",
    "## Gene Expression Data and Election Polls \n",
    "\n",
    "Due: Thursday, October 2, 2014 11:59 PM\n",
    "\n",
    "<a href=https://raw.githubusercontent.com/cs109/2014/master/homework/HW2.ipynb download=HW2.ipynb> Download this assignment</a>\n",
    "\n",
    "#### Submission Instructions\n",
    "To submit your homework, create a folder named lastname_firstinitial_hw# and place your IPython notebooks, data files, and any other files in this folder. Your IPython Notebooks should be completely executed with the results visible in the notebook. We should not have to run any code. Compress the folder (please use .zip compression) and submit to the CS109 dropbox in the appropriate folder. If we cannot access your work because these directions are not followed correctly, we will not grade your work.\n",
    "\n",
    "\n",
    "---"
   ]
  },
  {
   "cell_type": "markdown",
   "metadata": {},
   "source": [
    "## Introduction\n",
    "\n",
    "John Tukey wrote in [Exploratory Data Analysis, 1977](http://www.amazon.com/Exploratory-Data-Analysis-Wilder-Tukey/dp/0201076160/ref=pd_bbs_sr_2/103-4466654-5303007?ie=UTF8&s=books&qid=1189739816&sr=8-2): \"The greatest value of a picture is when it forces us to notice what we never expected to see.\" In this assignment we will continue using our exploratory data analysis tools, but apply it to new sets of data: [gene expression](http://en.wikipedia.org/wiki/Gene_expression) and polls from the [2012 Presidental Election](http://en.wikipedia.org/wiki/United_States_presidential_election,_2012) and from the [2014 Senate Midterm Elections](http://en.wikipedia.org/wiki/United_States_Senate_elections,_2014).   \n",
    "\n",
    "**First**: You will use exploratory data analysis and apply the [singular value decomposition](http://en.wikipedia.org/wiki/Singular_value_decomposition) (SVD) to a gene expression data matrix to determine if the the date that the gene expression samples are processed has large effect on the variability seen in the data.  \n",
    "\n",
    "**Second**: You will use the polls from the 2012 Presidential Elections to determine (1) Is there a pollster bias in presidential election polls? and (2) Is the average of polls better than just one poll?\n",
    "\n",
    "**Finally**: You will use the [HuffPost Pollster API](http://elections.huffingtonpost.com/pollster/api) to extract the polls for the current 2014 Senate Midterm Elections and provide a preliminary prediction of the result of each state.\n",
    "\n",
    "#### Data\n",
    "\n",
    "We will use the following data sets: \n",
    "\n",
    "1. A gene expression data set called `exprs_GSE5859.csv` and sample annotation table called `sampleinfo_GSE5859.csv` which are both available on Github in the 2014_data repository: [expression data set](https://github.com/cs109/2014_data/blob/master/exprs_GSE5859.csv) and [sample annotation table](https://github.com/cs109/2014_data/blob/master/sampleinfo_GSE5859.csv).  \n",
    "\n",
    "2. Polls from the [2012 Presidential Election: Barack Obama vs Mitt Romney](http://elections.huffingtonpost.com/pollster/2012-general-election-romney-vs-obama). The polls we will use are from the [Huffington Post Pollster](http://elections.huffingtonpost.com/pollster).  \n",
    "\n",
    "3. Polls from the [2014 Senate Midterm Elections](http://elections.huffingtonpost.com/pollster) from the [HuffPost Pollster API](http://elections.huffingtonpost.com/pollster/api). \n",
    "\n",
    "---"
   ]
  },
  {
   "cell_type": "markdown",
   "metadata": {},
   "source": [
    "## Load Python modules"
   ]
  },
  {
   "cell_type": "code",
   "execution_count": 1,
   "metadata": {
    "collapsed": false
   },
   "outputs": [],
   "source": [
    "# special IPython command to prepare the notebook for matplotlib\n",
    "%matplotlib inline \n",
    "\n",
    "import requests \n",
    "from StringIO import StringIO\n",
    "import numpy as np\n",
    "import pandas as pd # pandas\n",
    "import matplotlib.pyplot as plt # module for plotting \n",
    "import datetime as dt # module for manipulating dates and times\n",
    "import numpy.linalg as lin # module for performing linear algebra operations"
   ]
  },
  {
   "cell_type": "code",
   "execution_count": 2,
   "metadata": {
    "collapsed": true
   },
   "outputs": [],
   "source": [
    "from IPython.display import display"
   ]
  },
  {
   "cell_type": "markdown",
   "metadata": {},
   "source": [
    "## Problem 1\n",
    "\n",
    "In this problem we will be using a [gene expression](http://en.wikipedia.org/wiki/Gene_expression) data set obtained from a [microarray](http://en.wikipedia.org/wiki/DNA_microarray) experiement [Read more about the specific experiment here](http://www.ncbi.nlm.nih.gov/geo/query/acc.cgi?acc=GSE5859).  There are two data sets we will use:  \n",
    "\n",
    "1. The gene expression intensities where the rows represent the features on the microarray (e.g. genes) and the columsns represent the different microarray samples.  \n",
    "\n",
    "2. A table that contains the information about each of the samples (columns in the gene expression data set) such as the sex, the age, the treatment status, the date the samples were processed.  Each row represents one sample. "
   ]
  },
  {
   "cell_type": "markdown",
   "metadata": {},
   "source": [
    "#### Problem 1(a) \n",
    "Read in the two files from Github: [exprs_GSE5859.csv](https://github.com/cs109/2014_data/blob/master/exprs_GSE5859.csv) and [sampleinfo_GSE5859.csv](https://github.com/cs109/2014_data/blob/master/sampleinfo_GSE5859.csv) as pandas DataFrames called `exprs` and `sampleinfo`. Use the gene names as the index of the `exprs` DataFrame."
   ]
  },
  {
   "cell_type": "markdown",
   "metadata": {},
   "source": [
    "### exprs"
   ]
  },
  {
   "cell_type": "code",
   "execution_count": 47,
   "metadata": {
    "collapsed": false
   },
   "outputs": [
    {
     "data": {
      "text/html": [
       "<div>\n",
       "<table border=\"1\" class=\"dataframe\">\n",
       "  <thead>\n",
       "    <tr style=\"text-align: right;\">\n",
       "      <th></th>\n",
       "      <th>Unnamed: 0</th>\n",
       "      <th>GSM25581.CEL.gz</th>\n",
       "      <th>GSM25681.CEL.gz</th>\n",
       "      <th>GSM136524.CEL.gz</th>\n",
       "      <th>GSM136707.CEL.gz</th>\n",
       "      <th>GSM25553.CEL.gz</th>\n",
       "      <th>GSM136676.CEL.gz</th>\n",
       "      <th>GSM136711.CEL.gz</th>\n",
       "      <th>GSM136542.CEL.gz</th>\n",
       "      <th>GSM136535.CEL.gz</th>\n",
       "      <th>...</th>\n",
       "      <th>GSM48650.CEL.gz</th>\n",
       "      <th>GSM25687.CEL.gz</th>\n",
       "      <th>GSM25685.CEL.gz</th>\n",
       "      <th>GSM136549.CEL.gz</th>\n",
       "      <th>GSM25427.CEL.gz</th>\n",
       "      <th>GSM25525.CEL.gz</th>\n",
       "      <th>GSM25349.CEL.gz</th>\n",
       "      <th>GSM136727.CEL.gz</th>\n",
       "      <th>GSM25626.CEL.gz</th>\n",
       "      <th>GSM136725.CEL.gz</th>\n",
       "    </tr>\n",
       "  </thead>\n",
       "  <tbody>\n",
       "    <tr>\n",
       "      <th>0</th>\n",
       "      <td>1007_s_at</td>\n",
       "      <td>6.333951</td>\n",
       "      <td>5.736190</td>\n",
       "      <td>6.156754</td>\n",
       "      <td>6.513010</td>\n",
       "      <td>6.061013</td>\n",
       "      <td>6.506493</td>\n",
       "      <td>6.863426</td>\n",
       "      <td>6.369645</td>\n",
       "      <td>6.646321</td>\n",
       "      <td>...</td>\n",
       "      <td>7.082636</td>\n",
       "      <td>6.315866</td>\n",
       "      <td>7.010165</td>\n",
       "      <td>6.460107</td>\n",
       "      <td>6.122355</td>\n",
       "      <td>6.330314</td>\n",
       "      <td>6.627014</td>\n",
       "      <td>6.133068</td>\n",
       "      <td>6.419444</td>\n",
       "      <td>6.488579</td>\n",
       "    </tr>\n",
       "    <tr>\n",
       "      <th>1</th>\n",
       "      <td>1053_at</td>\n",
       "      <td>7.255622</td>\n",
       "      <td>7.399993</td>\n",
       "      <td>7.491967</td>\n",
       "      <td>7.006123</td>\n",
       "      <td>7.250995</td>\n",
       "      <td>7.082581</td>\n",
       "      <td>6.842236</td>\n",
       "      <td>7.048487</td>\n",
       "      <td>7.042361</td>\n",
       "      <td>...</td>\n",
       "      <td>6.599718</td>\n",
       "      <td>7.412731</td>\n",
       "      <td>7.274429</td>\n",
       "      <td>6.928642</td>\n",
       "      <td>7.168782</td>\n",
       "      <td>7.235648</td>\n",
       "      <td>6.939184</td>\n",
       "      <td>7.280781</td>\n",
       "      <td>6.351776</td>\n",
       "      <td>7.517410</td>\n",
       "    </tr>\n",
       "    <tr>\n",
       "      <th>2</th>\n",
       "      <td>117_at</td>\n",
       "      <td>5.760106</td>\n",
       "      <td>4.825169</td>\n",
       "      <td>5.039387</td>\n",
       "      <td>5.414160</td>\n",
       "      <td>5.205697</td>\n",
       "      <td>5.300078</td>\n",
       "      <td>5.099337</td>\n",
       "      <td>5.156459</td>\n",
       "      <td>5.736109</td>\n",
       "      <td>...</td>\n",
       "      <td>6.231457</td>\n",
       "      <td>5.240717</td>\n",
       "      <td>5.275062</td>\n",
       "      <td>5.759827</td>\n",
       "      <td>5.409720</td>\n",
       "      <td>5.491938</td>\n",
       "      <td>5.113570</td>\n",
       "      <td>5.401876</td>\n",
       "      <td>5.537605</td>\n",
       "      <td>5.247190</td>\n",
       "    </tr>\n",
       "    <tr>\n",
       "      <th>3</th>\n",
       "      <td>121_at</td>\n",
       "      <td>6.935451</td>\n",
       "      <td>7.025210</td>\n",
       "      <td>7.543667</td>\n",
       "      <td>7.959781</td>\n",
       "      <td>7.223323</td>\n",
       "      <td>8.006816</td>\n",
       "      <td>8.102504</td>\n",
       "      <td>7.434617</td>\n",
       "      <td>7.532321</td>\n",
       "      <td>...</td>\n",
       "      <td>8.215096</td>\n",
       "      <td>7.677593</td>\n",
       "      <td>7.923624</td>\n",
       "      <td>7.219401</td>\n",
       "      <td>7.432338</td>\n",
       "      <td>6.785174</td>\n",
       "      <td>7.833862</td>\n",
       "      <td>7.607461</td>\n",
       "      <td>7.302935</td>\n",
       "      <td>7.331864</td>\n",
       "    </tr>\n",
       "    <tr>\n",
       "      <th>4</th>\n",
       "      <td>1255_g_at</td>\n",
       "      <td>3.597872</td>\n",
       "      <td>3.108801</td>\n",
       "      <td>3.128269</td>\n",
       "      <td>3.364947</td>\n",
       "      <td>3.125909</td>\n",
       "      <td>3.186834</td>\n",
       "      <td>3.311022</td>\n",
       "      <td>3.092042</td>\n",
       "      <td>3.167737</td>\n",
       "      <td>...</td>\n",
       "      <td>3.331424</td>\n",
       "      <td>3.043856</td>\n",
       "      <td>3.151900</td>\n",
       "      <td>3.132253</td>\n",
       "      <td>3.250600</td>\n",
       "      <td>2.984125</td>\n",
       "      <td>3.152269</td>\n",
       "      <td>3.225123</td>\n",
       "      <td>3.222731</td>\n",
       "      <td>3.175846</td>\n",
       "    </tr>\n",
       "  </tbody>\n",
       "</table>\n",
       "<p>5 rows × 209 columns</p>\n",
       "</div>"
      ],
      "text/plain": [
       "  Unnamed: 0  GSM25581.CEL.gz  GSM25681.CEL.gz  GSM136524.CEL.gz  \\\n",
       "0  1007_s_at         6.333951         5.736190          6.156754   \n",
       "1    1053_at         7.255622         7.399993          7.491967   \n",
       "2     117_at         5.760106         4.825169          5.039387   \n",
       "3     121_at         6.935451         7.025210          7.543667   \n",
       "4  1255_g_at         3.597872         3.108801          3.128269   \n",
       "\n",
       "   GSM136707.CEL.gz  GSM25553.CEL.gz  GSM136676.CEL.gz  GSM136711.CEL.gz  \\\n",
       "0          6.513010         6.061013          6.506493          6.863426   \n",
       "1          7.006123         7.250995          7.082581          6.842236   \n",
       "2          5.414160         5.205697          5.300078          5.099337   \n",
       "3          7.959781         7.223323          8.006816          8.102504   \n",
       "4          3.364947         3.125909          3.186834          3.311022   \n",
       "\n",
       "   GSM136542.CEL.gz  GSM136535.CEL.gz        ...         GSM48650.CEL.gz  \\\n",
       "0          6.369645          6.646321        ...                7.082636   \n",
       "1          7.048487          7.042361        ...                6.599718   \n",
       "2          5.156459          5.736109        ...                6.231457   \n",
       "3          7.434617          7.532321        ...                8.215096   \n",
       "4          3.092042          3.167737        ...                3.331424   \n",
       "\n",
       "   GSM25687.CEL.gz  GSM25685.CEL.gz  GSM136549.CEL.gz  GSM25427.CEL.gz  \\\n",
       "0         6.315866         7.010165          6.460107         6.122355   \n",
       "1         7.412731         7.274429          6.928642         7.168782   \n",
       "2         5.240717         5.275062          5.759827         5.409720   \n",
       "3         7.677593         7.923624          7.219401         7.432338   \n",
       "4         3.043856         3.151900          3.132253         3.250600   \n",
       "\n",
       "   GSM25525.CEL.gz  GSM25349.CEL.gz  GSM136727.CEL.gz  GSM25626.CEL.gz  \\\n",
       "0         6.330314         6.627014          6.133068         6.419444   \n",
       "1         7.235648         6.939184          7.280781         6.351776   \n",
       "2         5.491938         5.113570          5.401876         5.537605   \n",
       "3         6.785174         7.833862          7.607461         7.302935   \n",
       "4         2.984125         3.152269          3.225123         3.222731   \n",
       "\n",
       "   GSM136725.CEL.gz  \n",
       "0          6.488579  \n",
       "1          7.517410  \n",
       "2          5.247190  \n",
       "3          7.331864  \n",
       "4          3.175846  \n",
       "\n",
       "[5 rows x 209 columns]"
      ]
     },
     "execution_count": 47,
     "metadata": {},
     "output_type": "execute_result"
    }
   ],
   "source": [
    "import io\n",
    "import requests\n",
    "\n",
    "url=\"https://github.com/cs109/2014_data/blob/master/exprs_GSE5859.csv\"\n",
    "#s = requests.get(url).content\n",
    "#exprs = pd.read_csv(io.StringIO(s.decode('utf-8')))\n",
    "#display(exprs.head())\n",
    "\n",
    "exprs = pd.read_csv('https://github.com/cs109/2014_data/raw/master/exprs_GSE5859.csv')\n",
    "exprs.head()"
   ]
  },
  {
   "cell_type": "code",
   "execution_count": 48,
   "metadata": {
    "collapsed": false
   },
   "outputs": [
    {
     "name": "stdout",
     "output_type": "stream",
     "text": [
      "(8793, 209)\n"
     ]
    }
   ],
   "source": [
    "print exprs.shape\n",
    "exprs.to_csv('../input/exprs_GSE5859.csv', index=False)\n",
    "del(exprs)"
   ]
  },
  {
   "cell_type": "code",
   "execution_count": 39,
   "metadata": {
    "collapsed": false
   },
   "outputs": [
    {
     "data": {
      "text/html": [
       "<div>\n",
       "<table border=\"1\" class=\"dataframe\">\n",
       "  <thead>\n",
       "    <tr style=\"text-align: right;\">\n",
       "      <th></th>\n",
       "      <th>GSM25552.CEL.gz</th>\n",
       "      <th>GSM25542.CEL.gz</th>\n",
       "      <th>GSM136544.CEL.gz</th>\n",
       "      <th>GSM25662.CEL.gz</th>\n",
       "      <th>GSM136563.CEL.gz</th>\n",
       "      <th>GSM48663.CEL.gz</th>\n",
       "      <th>GSM136547.CEL.gz</th>\n",
       "      <th>GSM136710.CEL.gz</th>\n",
       "    </tr>\n",
       "  </thead>\n",
       "  <tbody>\n",
       "    <tr>\n",
       "      <th>0</th>\n",
       "      <td>6.364868</td>\n",
       "      <td>6.486811</td>\n",
       "      <td>6.398854</td>\n",
       "      <td>6.518133</td>\n",
       "      <td>6.639091</td>\n",
       "      <td>5.981000</td>\n",
       "      <td>6.782794</td>\n",
       "      <td>6.452495</td>\n",
       "    </tr>\n",
       "    <tr>\n",
       "      <th>1</th>\n",
       "      <td>7.462191</td>\n",
       "      <td>6.371948</td>\n",
       "      <td>7.490546</td>\n",
       "      <td>7.260461</td>\n",
       "      <td>7.028731</td>\n",
       "      <td>7.120923</td>\n",
       "      <td>6.853129</td>\n",
       "      <td>7.211626</td>\n",
       "    </tr>\n",
       "  </tbody>\n",
       "</table>\n",
       "</div>"
      ],
      "text/plain": [
       "   GSM25552.CEL.gz  GSM25542.CEL.gz  GSM136544.CEL.gz  GSM25662.CEL.gz  \\\n",
       "0         6.364868         6.486811          6.398854         6.518133   \n",
       "1         7.462191         6.371948          7.490546         7.260461   \n",
       "\n",
       "   GSM136563.CEL.gz  GSM48663.CEL.gz  GSM136547.CEL.gz  GSM136710.CEL.gz  \n",
       "0          6.639091         5.981000          6.782794          6.452495  \n",
       "1          7.028731         7.120923          6.853129          7.211626  "
      ]
     },
     "execution_count": 39,
     "metadata": {},
     "output_type": "execute_result"
    }
   ],
   "source": [
    "exprs = pd.read_csv('../input/exprs_GSE5859.csv')\n",
    "df = exprs.iloc[:100]\n",
    "#del(exprs)\n",
    "df.iloc[:2, 12:20]"
   ]
  },
  {
   "cell_type": "code",
   "execution_count": 28,
   "metadata": {
    "collapsed": false
   },
   "outputs": [
    {
     "data": {
      "text/plain": [
       "(100, 210)"
      ]
     },
     "execution_count": 28,
     "metadata": {},
     "output_type": "execute_result"
    }
   ],
   "source": [
    "df.shape"
   ]
  },
  {
   "cell_type": "code",
   "execution_count": 29,
   "metadata": {
    "collapsed": false
   },
   "outputs": [
    {
     "name": "stdout",
     "output_type": "stream",
     "text": [
      "Index([u'Unnamed: 0', u'Unnamed: 0.1', u'GSM25581.CEL.gz', u'GSM25681.CEL.gz',\n",
      "       u'GSM136524.CEL.gz', u'GSM136707.CEL.gz', u'GSM25553.CEL.gz',\n",
      "       u'GSM136676.CEL.gz', u'GSM136711.CEL.gz', u'GSM136542.CEL.gz',\n",
      "       ...\n",
      "       u'GSM48650.CEL.gz', u'GSM25687.CEL.gz', u'GSM25685.CEL.gz',\n",
      "       u'GSM136549.CEL.gz', u'GSM25427.CEL.gz', u'GSM25525.CEL.gz',\n",
      "       u'GSM25349.CEL.gz', u'GSM136727.CEL.gz', u'GSM25626.CEL.gz',\n",
      "       u'GSM136725.CEL.gz'],\n",
      "      dtype='object', length=210)\n"
     ]
    }
   ],
   "source": [
    "print df.columns"
   ]
  },
  {
   "cell_type": "code",
   "execution_count": 33,
   "metadata": {
    "collapsed": false
   },
   "outputs": [
    {
     "data": {
      "text/html": [
       "<div>\n",
       "<table border=\"1\" class=\"dataframe\">\n",
       "  <thead>\n",
       "    <tr style=\"text-align: right;\">\n",
       "      <th></th>\n",
       "      <th>Unnamed: 0</th>\n",
       "      <th>GSM25681.CEL.gz</th>\n",
       "      <th>GSM136524.CEL.gz</th>\n",
       "      <th>GSM136707.CEL.gz</th>\n",
       "      <th>GSM25553.CEL.gz</th>\n",
       "      <th>GSM136676.CEL.gz</th>\n",
       "      <th>GSM136711.CEL.gz</th>\n",
       "      <th>GSM136542.CEL.gz</th>\n",
       "      <th>GSM136535.CEL.gz</th>\n",
       "      <th>GSM25399.CEL.gz</th>\n",
       "      <th>...</th>\n",
       "      <th>GSM48650.CEL.gz</th>\n",
       "      <th>GSM25687.CEL.gz</th>\n",
       "      <th>GSM25685.CEL.gz</th>\n",
       "      <th>GSM136549.CEL.gz</th>\n",
       "      <th>GSM25427.CEL.gz</th>\n",
       "      <th>GSM25525.CEL.gz</th>\n",
       "      <th>GSM25349.CEL.gz</th>\n",
       "      <th>GSM136727.CEL.gz</th>\n",
       "      <th>GSM25626.CEL.gz</th>\n",
       "      <th>GSM136725.CEL.gz</th>\n",
       "    </tr>\n",
       "    <tr>\n",
       "      <th>GSM25581.CEL.gz</th>\n",
       "      <th></th>\n",
       "      <th></th>\n",
       "      <th></th>\n",
       "      <th></th>\n",
       "      <th></th>\n",
       "      <th></th>\n",
       "      <th></th>\n",
       "      <th></th>\n",
       "      <th></th>\n",
       "      <th></th>\n",
       "      <th></th>\n",
       "      <th></th>\n",
       "      <th></th>\n",
       "      <th></th>\n",
       "      <th></th>\n",
       "      <th></th>\n",
       "      <th></th>\n",
       "      <th></th>\n",
       "      <th></th>\n",
       "      <th></th>\n",
       "      <th></th>\n",
       "    </tr>\n",
       "  </thead>\n",
       "  <tbody>\n",
       "    <tr>\n",
       "      <th>2.567959</th>\n",
       "      <td>8</td>\n",
       "      <td>2.620502</td>\n",
       "      <td>2.866734</td>\n",
       "      <td>3.003389</td>\n",
       "      <td>2.613167</td>\n",
       "      <td>2.947787</td>\n",
       "      <td>3.006027</td>\n",
       "      <td>2.790423</td>\n",
       "      <td>3.011486</td>\n",
       "      <td>2.750068</td>\n",
       "      <td>...</td>\n",
       "      <td>3.106535</td>\n",
       "      <td>2.567982</td>\n",
       "      <td>2.844532</td>\n",
       "      <td>2.804780</td>\n",
       "      <td>2.541231</td>\n",
       "      <td>2.638948</td>\n",
       "      <td>2.770336</td>\n",
       "      <td>2.824156</td>\n",
       "      <td>2.648914</td>\n",
       "      <td>2.760064</td>\n",
       "    </tr>\n",
       "    <tr>\n",
       "      <th>3.142248</th>\n",
       "      <td>7</td>\n",
       "      <td>3.614712</td>\n",
       "      <td>3.720608</td>\n",
       "      <td>3.718438</td>\n",
       "      <td>3.456399</td>\n",
       "      <td>4.042871</td>\n",
       "      <td>4.180292</td>\n",
       "      <td>3.685033</td>\n",
       "      <td>3.806747</td>\n",
       "      <td>3.584733</td>\n",
       "      <td>...</td>\n",
       "      <td>3.865796</td>\n",
       "      <td>3.633852</td>\n",
       "      <td>3.639738</td>\n",
       "      <td>3.580355</td>\n",
       "      <td>3.631627</td>\n",
       "      <td>3.648480</td>\n",
       "      <td>3.628234</td>\n",
       "      <td>3.751869</td>\n",
       "      <td>3.909671</td>\n",
       "      <td>3.685936</td>\n",
       "    </tr>\n",
       "    <tr>\n",
       "      <th>3.597872</th>\n",
       "      <td>4</td>\n",
       "      <td>3.108801</td>\n",
       "      <td>3.128269</td>\n",
       "      <td>3.364947</td>\n",
       "      <td>3.125909</td>\n",
       "      <td>3.186834</td>\n",
       "      <td>3.311022</td>\n",
       "      <td>3.092042</td>\n",
       "      <td>3.167737</td>\n",
       "      <td>2.969579</td>\n",
       "      <td>...</td>\n",
       "      <td>3.331424</td>\n",
       "      <td>3.043856</td>\n",
       "      <td>3.151900</td>\n",
       "      <td>3.132253</td>\n",
       "      <td>3.250600</td>\n",
       "      <td>2.984125</td>\n",
       "      <td>3.152269</td>\n",
       "      <td>3.225123</td>\n",
       "      <td>3.222731</td>\n",
       "      <td>3.175846</td>\n",
       "    </tr>\n",
       "    <tr>\n",
       "      <th>4.095717</th>\n",
       "      <td>6</td>\n",
       "      <td>3.970127</td>\n",
       "      <td>4.069064</td>\n",
       "      <td>4.439366</td>\n",
       "      <td>4.187246</td>\n",
       "      <td>4.525857</td>\n",
       "      <td>4.414383</td>\n",
       "      <td>3.985384</td>\n",
       "      <td>4.426917</td>\n",
       "      <td>4.342898</td>\n",
       "      <td>...</td>\n",
       "      <td>4.684647</td>\n",
       "      <td>4.121430</td>\n",
       "      <td>4.177091</td>\n",
       "      <td>3.974680</td>\n",
       "      <td>3.782024</td>\n",
       "      <td>4.182026</td>\n",
       "      <td>4.297712</td>\n",
       "      <td>4.117132</td>\n",
       "      <td>4.515535</td>\n",
       "      <td>4.159143</td>\n",
       "    </tr>\n",
       "    <tr>\n",
       "      <th>4.648164</th>\n",
       "      <td>11</td>\n",
       "      <td>5.003538</td>\n",
       "      <td>5.280009</td>\n",
       "      <td>5.762927</td>\n",
       "      <td>4.936438</td>\n",
       "      <td>5.484092</td>\n",
       "      <td>5.896285</td>\n",
       "      <td>5.189027</td>\n",
       "      <td>5.604466</td>\n",
       "      <td>5.252642</td>\n",
       "      <td>...</td>\n",
       "      <td>5.914026</td>\n",
       "      <td>5.157437</td>\n",
       "      <td>5.550297</td>\n",
       "      <td>5.277690</td>\n",
       "      <td>4.855122</td>\n",
       "      <td>4.504569</td>\n",
       "      <td>5.235139</td>\n",
       "      <td>5.215909</td>\n",
       "      <td>5.414047</td>\n",
       "      <td>5.412142</td>\n",
       "    </tr>\n",
       "  </tbody>\n",
       "</table>\n",
       "<p>5 rows × 208 columns</p>\n",
       "</div>"
      ],
      "text/plain": [
       "                 Unnamed: 0  GSM25681.CEL.gz  GSM136524.CEL.gz  \\\n",
       "GSM25581.CEL.gz                                                  \n",
       "2.567959                  8         2.620502          2.866734   \n",
       "3.142248                  7         3.614712          3.720608   \n",
       "3.597872                  4         3.108801          3.128269   \n",
       "4.095717                  6         3.970127          4.069064   \n",
       "4.648164                 11         5.003538          5.280009   \n",
       "\n",
       "                 GSM136707.CEL.gz  GSM25553.CEL.gz  GSM136676.CEL.gz  \\\n",
       "GSM25581.CEL.gz                                                        \n",
       "2.567959                 3.003389         2.613167          2.947787   \n",
       "3.142248                 3.718438         3.456399          4.042871   \n",
       "3.597872                 3.364947         3.125909          3.186834   \n",
       "4.095717                 4.439366         4.187246          4.525857   \n",
       "4.648164                 5.762927         4.936438          5.484092   \n",
       "\n",
       "                 GSM136711.CEL.gz  GSM136542.CEL.gz  GSM136535.CEL.gz  \\\n",
       "GSM25581.CEL.gz                                                         \n",
       "2.567959                 3.006027          2.790423          3.011486   \n",
       "3.142248                 4.180292          3.685033          3.806747   \n",
       "3.597872                 3.311022          3.092042          3.167737   \n",
       "4.095717                 4.414383          3.985384          4.426917   \n",
       "4.648164                 5.896285          5.189027          5.604466   \n",
       "\n",
       "                 GSM25399.CEL.gz        ...         GSM48650.CEL.gz  \\\n",
       "GSM25581.CEL.gz                         ...                           \n",
       "2.567959                2.750068        ...                3.106535   \n",
       "3.142248                3.584733        ...                3.865796   \n",
       "3.597872                2.969579        ...                3.331424   \n",
       "4.095717                4.342898        ...                4.684647   \n",
       "4.648164                5.252642        ...                5.914026   \n",
       "\n",
       "                 GSM25687.CEL.gz  GSM25685.CEL.gz  GSM136549.CEL.gz  \\\n",
       "GSM25581.CEL.gz                                                       \n",
       "2.567959                2.567982         2.844532          2.804780   \n",
       "3.142248                3.633852         3.639738          3.580355   \n",
       "3.597872                3.043856         3.151900          3.132253   \n",
       "4.095717                4.121430         4.177091          3.974680   \n",
       "4.648164                5.157437         5.550297          5.277690   \n",
       "\n",
       "                 GSM25427.CEL.gz  GSM25525.CEL.gz  GSM25349.CEL.gz  \\\n",
       "GSM25581.CEL.gz                                                      \n",
       "2.567959                2.541231         2.638948         2.770336   \n",
       "3.142248                3.631627         3.648480         3.628234   \n",
       "3.597872                3.250600         2.984125         3.152269   \n",
       "4.095717                3.782024         4.182026         4.297712   \n",
       "4.648164                4.855122         4.504569         5.235139   \n",
       "\n",
       "                 GSM136727.CEL.gz  GSM25626.CEL.gz  GSM136725.CEL.gz  \n",
       "GSM25581.CEL.gz                                                       \n",
       "2.567959                 2.824156         2.648914          2.760064  \n",
       "3.142248                 3.751869         3.909671          3.685936  \n",
       "3.597872                 3.225123         3.222731          3.175846  \n",
       "4.095717                 4.117132         4.515535          4.159143  \n",
       "4.648164                 5.215909         5.414047          5.412142  \n",
       "\n",
       "[5 rows x 208 columns]"
      ]
     },
     "execution_count": 33,
     "metadata": {},
     "output_type": "execute_result"
    }
   ],
   "source": [
    "# using Groupby \n",
    "df.groupby(['GSM25581.CEL.gz']).mean().head()"
   ]
  },
  {
   "cell_type": "markdown",
   "metadata": {},
   "source": [
    "### sampleinfo"
   ]
  },
  {
   "cell_type": "code",
   "execution_count": 35,
   "metadata": {
    "collapsed": false
   },
   "outputs": [
    {
     "data": {
      "text/html": [
       "<div>\n",
       "<table border=\"1\" class=\"dataframe\">\n",
       "  <thead>\n",
       "    <tr style=\"text-align: right;\">\n",
       "      <th></th>\n",
       "      <th>ethnicity</th>\n",
       "      <th>date</th>\n",
       "      <th>filename</th>\n",
       "      <th>sex</th>\n",
       "    </tr>\n",
       "  </thead>\n",
       "  <tbody>\n",
       "    <tr>\n",
       "      <th>0</th>\n",
       "      <td>CEU</td>\n",
       "      <td>2003-02-04</td>\n",
       "      <td>GSM25349.CEL.gz</td>\n",
       "      <td>M</td>\n",
       "    </tr>\n",
       "    <tr>\n",
       "      <th>1</th>\n",
       "      <td>CEU</td>\n",
       "      <td>2003-02-04</td>\n",
       "      <td>GSM25350.CEL.gz</td>\n",
       "      <td>M</td>\n",
       "    </tr>\n",
       "    <tr>\n",
       "      <th>2</th>\n",
       "      <td>CEU</td>\n",
       "      <td>2002-12-17</td>\n",
       "      <td>GSM25356.CEL.gz</td>\n",
       "      <td>M</td>\n",
       "    </tr>\n",
       "    <tr>\n",
       "      <th>3</th>\n",
       "      <td>CEU</td>\n",
       "      <td>2003-01-30</td>\n",
       "      <td>GSM25357.CEL.gz</td>\n",
       "      <td>M</td>\n",
       "    </tr>\n",
       "    <tr>\n",
       "      <th>4</th>\n",
       "      <td>CEU</td>\n",
       "      <td>2003-01-03</td>\n",
       "      <td>GSM25358.CEL.gz</td>\n",
       "      <td>M</td>\n",
       "    </tr>\n",
       "  </tbody>\n",
       "</table>\n",
       "</div>"
      ],
      "text/plain": [
       "  ethnicity        date         filename sex\n",
       "0       CEU  2003-02-04  GSM25349.CEL.gz   M\n",
       "1       CEU  2003-02-04  GSM25350.CEL.gz   M\n",
       "2       CEU  2002-12-17  GSM25356.CEL.gz   M\n",
       "3       CEU  2003-01-30  GSM25357.CEL.gz   M\n",
       "4       CEU  2003-01-03  GSM25358.CEL.gz   M"
      ]
     },
     "execution_count": 35,
     "metadata": {},
     "output_type": "execute_result"
    }
   ],
   "source": [
    "sampleinfo = pd.read_csv('https://github.com/cs109/2014_data/raw/master/sampleinfo_GSE5859.csv')\n",
    "sampleinfo.head()"
   ]
  },
  {
   "cell_type": "code",
   "execution_count": 49,
   "metadata": {
    "collapsed": false
   },
   "outputs": [
    {
     "data": {
      "text/html": [
       "<div>\n",
       "<table border=\"1\" class=\"dataframe\">\n",
       "  <thead>\n",
       "    <tr style=\"text-align: right;\">\n",
       "      <th></th>\n",
       "      <th>Unnamed: 0</th>\n",
       "      <th>GSM25581.CEL.gz</th>\n",
       "      <th>GSM25681.CEL.gz</th>\n",
       "      <th>GSM136524.CEL.gz</th>\n",
       "      <th>GSM136707.CEL.gz</th>\n",
       "      <th>GSM25553.CEL.gz</th>\n",
       "      <th>GSM136676.CEL.gz</th>\n",
       "      <th>GSM136711.CEL.gz</th>\n",
       "      <th>GSM136542.CEL.gz</th>\n",
       "      <th>GSM136535.CEL.gz</th>\n",
       "      <th>...</th>\n",
       "      <th>GSM48650.CEL.gz</th>\n",
       "      <th>GSM25687.CEL.gz</th>\n",
       "      <th>GSM25685.CEL.gz</th>\n",
       "      <th>GSM136549.CEL.gz</th>\n",
       "      <th>GSM25427.CEL.gz</th>\n",
       "      <th>GSM25525.CEL.gz</th>\n",
       "      <th>GSM25349.CEL.gz</th>\n",
       "      <th>GSM136727.CEL.gz</th>\n",
       "      <th>GSM25626.CEL.gz</th>\n",
       "      <th>GSM136725.CEL.gz</th>\n",
       "    </tr>\n",
       "  </thead>\n",
       "  <tbody>\n",
       "    <tr>\n",
       "      <th>0</th>\n",
       "      <td>1007_s_at</td>\n",
       "      <td>6.333951</td>\n",
       "      <td>5.736190</td>\n",
       "      <td>6.156754</td>\n",
       "      <td>6.513010</td>\n",
       "      <td>6.061013</td>\n",
       "      <td>6.506493</td>\n",
       "      <td>6.863426</td>\n",
       "      <td>6.369645</td>\n",
       "      <td>6.646321</td>\n",
       "      <td>...</td>\n",
       "      <td>7.082636</td>\n",
       "      <td>6.315866</td>\n",
       "      <td>7.010165</td>\n",
       "      <td>6.460107</td>\n",
       "      <td>6.122355</td>\n",
       "      <td>6.330314</td>\n",
       "      <td>6.627014</td>\n",
       "      <td>6.133068</td>\n",
       "      <td>6.419444</td>\n",
       "      <td>6.488579</td>\n",
       "    </tr>\n",
       "    <tr>\n",
       "      <th>1</th>\n",
       "      <td>1053_at</td>\n",
       "      <td>7.255622</td>\n",
       "      <td>7.399993</td>\n",
       "      <td>7.491967</td>\n",
       "      <td>7.006123</td>\n",
       "      <td>7.250995</td>\n",
       "      <td>7.082581</td>\n",
       "      <td>6.842236</td>\n",
       "      <td>7.048487</td>\n",
       "      <td>7.042361</td>\n",
       "      <td>...</td>\n",
       "      <td>6.599718</td>\n",
       "      <td>7.412731</td>\n",
       "      <td>7.274429</td>\n",
       "      <td>6.928642</td>\n",
       "      <td>7.168782</td>\n",
       "      <td>7.235648</td>\n",
       "      <td>6.939184</td>\n",
       "      <td>7.280781</td>\n",
       "      <td>6.351776</td>\n",
       "      <td>7.517410</td>\n",
       "    </tr>\n",
       "    <tr>\n",
       "      <th>2</th>\n",
       "      <td>117_at</td>\n",
       "      <td>5.760106</td>\n",
       "      <td>4.825169</td>\n",
       "      <td>5.039387</td>\n",
       "      <td>5.414160</td>\n",
       "      <td>5.205697</td>\n",
       "      <td>5.300078</td>\n",
       "      <td>5.099337</td>\n",
       "      <td>5.156459</td>\n",
       "      <td>5.736109</td>\n",
       "      <td>...</td>\n",
       "      <td>6.231457</td>\n",
       "      <td>5.240717</td>\n",
       "      <td>5.275062</td>\n",
       "      <td>5.759827</td>\n",
       "      <td>5.409720</td>\n",
       "      <td>5.491938</td>\n",
       "      <td>5.113570</td>\n",
       "      <td>5.401876</td>\n",
       "      <td>5.537605</td>\n",
       "      <td>5.247190</td>\n",
       "    </tr>\n",
       "    <tr>\n",
       "      <th>3</th>\n",
       "      <td>121_at</td>\n",
       "      <td>6.935451</td>\n",
       "      <td>7.025210</td>\n",
       "      <td>7.543667</td>\n",
       "      <td>7.959781</td>\n",
       "      <td>7.223323</td>\n",
       "      <td>8.006816</td>\n",
       "      <td>8.102504</td>\n",
       "      <td>7.434617</td>\n",
       "      <td>7.532321</td>\n",
       "      <td>...</td>\n",
       "      <td>8.215096</td>\n",
       "      <td>7.677593</td>\n",
       "      <td>7.923624</td>\n",
       "      <td>7.219401</td>\n",
       "      <td>7.432338</td>\n",
       "      <td>6.785174</td>\n",
       "      <td>7.833862</td>\n",
       "      <td>7.607461</td>\n",
       "      <td>7.302935</td>\n",
       "      <td>7.331864</td>\n",
       "    </tr>\n",
       "    <tr>\n",
       "      <th>4</th>\n",
       "      <td>1255_g_at</td>\n",
       "      <td>3.597872</td>\n",
       "      <td>3.108801</td>\n",
       "      <td>3.128269</td>\n",
       "      <td>3.364947</td>\n",
       "      <td>3.125909</td>\n",
       "      <td>3.186834</td>\n",
       "      <td>3.311022</td>\n",
       "      <td>3.092042</td>\n",
       "      <td>3.167737</td>\n",
       "      <td>...</td>\n",
       "      <td>3.331424</td>\n",
       "      <td>3.043856</td>\n",
       "      <td>3.151900</td>\n",
       "      <td>3.132253</td>\n",
       "      <td>3.250600</td>\n",
       "      <td>2.984125</td>\n",
       "      <td>3.152269</td>\n",
       "      <td>3.225123</td>\n",
       "      <td>3.222731</td>\n",
       "      <td>3.175846</td>\n",
       "    </tr>\n",
       "  </tbody>\n",
       "</table>\n",
       "<p>5 rows × 209 columns</p>\n",
       "</div>"
      ],
      "text/plain": [
       "  Unnamed: 0  GSM25581.CEL.gz  GSM25681.CEL.gz  GSM136524.CEL.gz  \\\n",
       "0  1007_s_at         6.333951         5.736190          6.156754   \n",
       "1    1053_at         7.255622         7.399993          7.491967   \n",
       "2     117_at         5.760106         4.825169          5.039387   \n",
       "3     121_at         6.935451         7.025210          7.543667   \n",
       "4  1255_g_at         3.597872         3.108801          3.128269   \n",
       "\n",
       "   GSM136707.CEL.gz  GSM25553.CEL.gz  GSM136676.CEL.gz  GSM136711.CEL.gz  \\\n",
       "0          6.513010         6.061013          6.506493          6.863426   \n",
       "1          7.006123         7.250995          7.082581          6.842236   \n",
       "2          5.414160         5.205697          5.300078          5.099337   \n",
       "3          7.959781         7.223323          8.006816          8.102504   \n",
       "4          3.364947         3.125909          3.186834          3.311022   \n",
       "\n",
       "   GSM136542.CEL.gz  GSM136535.CEL.gz        ...         GSM48650.CEL.gz  \\\n",
       "0          6.369645          6.646321        ...                7.082636   \n",
       "1          7.048487          7.042361        ...                6.599718   \n",
       "2          5.156459          5.736109        ...                6.231457   \n",
       "3          7.434617          7.532321        ...                8.215096   \n",
       "4          3.092042          3.167737        ...                3.331424   \n",
       "\n",
       "   GSM25687.CEL.gz  GSM25685.CEL.gz  GSM136549.CEL.gz  GSM25427.CEL.gz  \\\n",
       "0         6.315866         7.010165          6.460107         6.122355   \n",
       "1         7.412731         7.274429          6.928642         7.168782   \n",
       "2         5.240717         5.275062          5.759827         5.409720   \n",
       "3         7.677593         7.923624          7.219401         7.432338   \n",
       "4         3.043856         3.151900          3.132253         3.250600   \n",
       "\n",
       "   GSM25525.CEL.gz  GSM25349.CEL.gz  GSM136727.CEL.gz  GSM25626.CEL.gz  \\\n",
       "0         6.330314         6.627014          6.133068         6.419444   \n",
       "1         7.235648         6.939184          7.280781         6.351776   \n",
       "2         5.491938         5.113570          5.401876         5.537605   \n",
       "3         6.785174         7.833862          7.607461         7.302935   \n",
       "4         2.984125         3.152269          3.225123         3.222731   \n",
       "\n",
       "   GSM136725.CEL.gz  \n",
       "0          6.488579  \n",
       "1          7.517410  \n",
       "2          5.247190  \n",
       "3          7.331864  \n",
       "4          3.175846  \n",
       "\n",
       "[5 rows x 209 columns]"
      ]
     },
     "execution_count": 49,
     "metadata": {},
     "output_type": "execute_result"
    }
   ],
   "source": [
    "exprs = pd.read_csv('../input/exprs_GSE5859.csv')\n",
    "exprs.head()"
   ]
  },
  {
   "cell_type": "markdown",
   "metadata": {},
   "source": [
    "Make sure the order of the columns in the gene expression DataFrame match the order of file names in the sample annotation DataFrame. If the order of the columns the `exprs` DataFrame do not match the order of the file names in the `sampleinfo` DataFrame, reorder the columns in the `exprs` DataFrame. \n",
    "\n",
    "**Note**: The column names of the gene expression DataFrame are the filenames of the orignal files from which these data were obtained.  \n",
    "\n",
    "**Hint**: The method `list.index(x)` [[read here](https://docs.python.org/2/tutorial/datastructures.html)] can be used to return the index in the list of the first item whose value is x. It is an error if there is no such item. To check if the order of the columns in `exprs` matches the order of the rows in `sampleinfo`, you can check using the method `.all()` on a Boolean or list of Booleans: \n",
    "\n",
    "Example code: `(exprs.columns == sampleinfo.filename).all()`"
   ]
  },
  {
   "cell_type": "code",
   "execution_count": 51,
   "metadata": {
    "collapsed": false
   },
   "outputs": [
    {
     "data": {
      "text/plain": [
       "False"
      ]
     },
     "execution_count": 51,
     "metadata": {},
     "output_type": "execute_result"
    }
   ],
   "source": [
    "(exprs.columns[1:] == sampleinfo.filename).all()"
   ]
  },
  {
   "cell_type": "markdown",
   "metadata": {},
   "source": [
    "Show the head of the two tables: `exprs` and `sampleinfo`. "
   ]
  },
  {
   "cell_type": "code",
   "execution_count": null,
   "metadata": {
    "collapsed": false
   },
   "outputs": [],
   "source": [
    "#your code here"
   ]
  },
  {
   "cell_type": "markdown",
   "metadata": {},
   "source": [
    "#### Problem 1(b)\n",
    "\n",
    "Extract the year and month as integers from the `sampleinfo` table. \n",
    "\n",
    "**Hint**: To convert a Series or a column of a pandas DataFrame that contains a date-like object, you can use the `to_datetime` function [[read here](http://pandas.pydata.org/pandas-docs/stable/timeseries.html)].  This will create a `DatetimeIndex` which can be used to extract the month and year for each row in the DataFrame. "
   ]
  },
  {
   "cell_type": "code",
   "execution_count": 4,
   "metadata": {
    "collapsed": false
   },
   "outputs": [],
   "source": [
    "#your code here"
   ]
  },
  {
   "cell_type": "markdown",
   "metadata": {},
   "source": [
    "#### Problem 1(c)\n",
    "\n",
    "Convert the dates in the `date` column from the `sampleinfo` table into days since October 31, 2002. Add a column to the `sampleinfo` DataFrame titled `elapsedInDays` containing the days since October 31, 2002.  Show the head of the `sampleinfo` DataFrame which includes the new column.  \n",
    "\n",
    "**Hint**: Use the `datetime` module to create a new `datetime` object for the specific date October 31, 2002. Then, subtract the October 31, 2002 date from each date from the `date` column in the `sampleinfo` DataFrame. "
   ]
  },
  {
   "cell_type": "code",
   "execution_count": 5,
   "metadata": {
    "collapsed": false
   },
   "outputs": [],
   "source": [
    "#your code here"
   ]
  },
  {
   "cell_type": "markdown",
   "metadata": {},
   "source": [
    "#### Problem 1(d)\n",
    "\n",
    "Use exploratory analysis and the singular value decomposition (SVD) of the gene expression data matrix to determine if the date the samples were processed has large effect on the variability seen in the data or if it is just ethnicity (which is confounded with date). \n",
    "\n",
    "**Hint**: See the end of the [lecture from 9/23/2014 for help with SVD](http://nbviewer.ipython.org/github/cs109/2014/blob/master/lectures/lecture07/data_scraping_transcript.ipynb). \n",
    "\n",
    "First subset the the `sampleinfo` DataFrame to include only the CEU ethnicity.  Call this new subsetted DataFrame `sampleinfoCEU`.  Show the head of `sampleinfoCEU` DataFrame. "
   ]
  },
  {
   "cell_type": "code",
   "execution_count": 6,
   "metadata": {
    "collapsed": false
   },
   "outputs": [],
   "source": [
    "#your code here"
   ]
  },
  {
   "cell_type": "markdown",
   "metadata": {},
   "source": [
    "Next, subset the `exprs` DataFrame to only include the samples with the CEU ethnicity. Name this new subsetted DataFrame `exprsCEU`. Show the head of the `exprsCEU` DataFrame. "
   ]
  },
  {
   "cell_type": "code",
   "execution_count": 7,
   "metadata": {
    "collapsed": false
   },
   "outputs": [],
   "source": [
    "#your code here"
   ]
  },
  {
   "cell_type": "markdown",
   "metadata": {},
   "source": [
    "Check to make sure the order of the columns in the `exprsCEU` DataFrame matches the rows in the `sampleinfoCEU` DataFrame.  "
   ]
  },
  {
   "cell_type": "code",
   "execution_count": 8,
   "metadata": {
    "collapsed": false
   },
   "outputs": [],
   "source": [
    "#your code here"
   ]
  },
  {
   "cell_type": "markdown",
   "metadata": {},
   "source": [
    "Compute the average gene expression intensity in the `exprsCEU` DataFrame across all the samples. For each sample in the `exprsCEU` DataFrame, subtract the average gene expression intensity from each of the samples. Show the head of the mean normalized gene expression data.  "
   ]
  },
  {
   "cell_type": "code",
   "execution_count": 9,
   "metadata": {
    "collapsed": false
   },
   "outputs": [],
   "source": [
    "#your code here"
   ]
  },
  {
   "cell_type": "markdown",
   "metadata": {},
   "source": [
    "Using this mean normalized gene expression data, compute the projection to the first Principal Component (PC1).  \n",
    "\n",
    "**Hint**: Use the `numpy.linalg.svd()` function in the `numpy.linalg` module (or the `scipy.linalg.svd()` function in the `scipy.linalg` module) to apply an [singular value decomposition](http://en.wikipedia.org/wiki/Singular_value_decomposition) to a matrix.  "
   ]
  },
  {
   "cell_type": "code",
   "execution_count": 10,
   "metadata": {
    "collapsed": false
   },
   "outputs": [],
   "source": [
    "#your code here"
   ]
  },
  {
   "cell_type": "markdown",
   "metadata": {},
   "source": [
    "Create a histogram using the values from PC1.  Use a bin size of 25.  "
   ]
  },
  {
   "cell_type": "code",
   "execution_count": 11,
   "metadata": {
    "collapsed": false
   },
   "outputs": [],
   "source": [
    "#your code here"
   ]
  },
  {
   "cell_type": "markdown",
   "metadata": {},
   "source": [
    "Create a scatter plot with the days since October 31, 2002 on the x-axis and PC1 on the y-axis."
   ]
  },
  {
   "cell_type": "code",
   "execution_count": 12,
   "metadata": {
    "collapsed": false
   },
   "outputs": [],
   "source": [
    "#your code here"
   ]
  },
  {
   "cell_type": "markdown",
   "metadata": {},
   "source": [
    "Around what day do you notice a difference in the way the samples were processed?"
   ]
  },
  {
   "cell_type": "code",
   "execution_count": 13,
   "metadata": {
    "collapsed": false
   },
   "outputs": [],
   "source": [
    "#your code here"
   ]
  },
  {
   "cell_type": "markdown",
   "metadata": {},
   "source": [
    "Answer:"
   ]
  },
  {
   "cell_type": "markdown",
   "metadata": {},
   "source": [
    "## Discussion for Problem 1\n",
    "\n",
    "*Write a brief discussion of your conclusions to the questions and tasks above in 100 words or less.*\n",
    "\n",
    "---\n"
   ]
  },
  {
   "cell_type": "markdown",
   "metadata": {},
   "source": [
    "## Problem 2: Is there a pollster bias in presidential election polls?"
   ]
  },
  {
   "cell_type": "markdown",
   "metadata": {},
   "source": [
    "#### Problem 2(a)\n",
    "\n",
    "The [HuffPost Pollster](http://elections.huffingtonpost.com/pollster) contains many political polls. You can access these polls from individual races as a CSV but you can also access polls through the [HuffPost Pollster API](http://elections.huffingtonpost.com/pollster/api) to access the data.  \n",
    "\n",
    "Read in the polls from the [2012 Presidential Election: Barack Obama vs Mitt Romney](http://elections.huffingtonpost.com/pollster/2012-general-election-romney-vs-obama) into a pandas DataFrame called `election`. For this problem, you may read in the polls for this race directly using [the CSV file](http://elections.huffingtonpost.com/pollster/2012-general-election-romney-vs-obama.csv) available from the HuffPost Pollster page."
   ]
  },
  {
   "cell_type": "code",
   "execution_count": 53,
   "metadata": {
    "collapsed": false
   },
   "outputs": [],
   "source": [
    "MY_URL = 'http://elections.huffingtonpost.com/pollster/api/polls.json?topic=2012-president'\n",
    "response = requests.get(MY_URL)\n",
    "\n",
    "election = pd.read_json(response.text)"
   ]
  },
  {
   "cell_type": "markdown",
   "metadata": {},
   "source": [
    "Show the head of the `election` DataFrame. "
   ]
  },
  {
   "cell_type": "code",
   "execution_count": 54,
   "metadata": {
    "collapsed": false
   },
   "outputs": [
    {
     "data": {
      "text/html": [
       "<div>\n",
       "<table border=\"1\" class=\"dataframe\">\n",
       "  <thead>\n",
       "    <tr style=\"text-align: right;\">\n",
       "      <th></th>\n",
       "      <th>affiliation</th>\n",
       "      <th>end_date</th>\n",
       "      <th>id</th>\n",
       "      <th>last_updated</th>\n",
       "      <th>method</th>\n",
       "      <th>partisan</th>\n",
       "      <th>pollster</th>\n",
       "      <th>questions</th>\n",
       "      <th>source</th>\n",
       "      <th>sponsors</th>\n",
       "      <th>start_date</th>\n",
       "      <th>survey_houses</th>\n",
       "    </tr>\n",
       "  </thead>\n",
       "  <tbody>\n",
       "    <tr>\n",
       "      <th>0</th>\n",
       "      <td>None</td>\n",
       "      <td>2012-11-05</td>\n",
       "      <td>16733</td>\n",
       "      <td>2012-11-26T20:49:27.000Z</td>\n",
       "      <td>Internet</td>\n",
       "      <td>Nonpartisan</td>\n",
       "      <td>YouGov/Economist</td>\n",
       "      <td>[{u'topic': u'', u'subpopulations': [{u'respon...</td>\n",
       "      <td>http://cdn.yougov.com/cumulus_uploads/document...</td>\n",
       "      <td>[{u'party': u'N/A', u'name': u'Economist'}]</td>\n",
       "      <td>2012-11-03</td>\n",
       "      <td>[{u'party': u'N/A', u'name': u'YouGov'}]</td>\n",
       "    </tr>\n",
       "    <tr>\n",
       "      <th>1</th>\n",
       "      <td>Rep</td>\n",
       "      <td>2012-11-04</td>\n",
       "      <td>16684</td>\n",
       "      <td>2012-11-06T14:58:10.000Z</td>\n",
       "      <td>Automated Phone</td>\n",
       "      <td>Pollster</td>\n",
       "      <td>Mitchell Research</td>\n",
       "      <td>[{u'topic': u'2012-president', u'subpopulation...</td>\n",
       "      <td>http://www.michiganview.com/article/20121104/M...</td>\n",
       "      <td>[]</td>\n",
       "      <td>2012-11-04</td>\n",
       "      <td>[{u'party': u'Rep', u'name': u'Mitchell Resear...</td>\n",
       "    </tr>\n",
       "    <tr>\n",
       "      <th>2</th>\n",
       "      <td>None</td>\n",
       "      <td>2012-11-05</td>\n",
       "      <td>16681</td>\n",
       "      <td>2012-11-06T14:27:40.000Z</td>\n",
       "      <td>Automated Phone</td>\n",
       "      <td>Nonpartisan</td>\n",
       "      <td>Gravis Marketing</td>\n",
       "      <td>[{u'topic': u'2012-president', u'subpopulation...</td>\n",
       "      <td>http://www.gravispolls.com/2012/11/gravis-mark...</td>\n",
       "      <td>[]</td>\n",
       "      <td>2012-11-03</td>\n",
       "      <td>[{u'party': u'N/A', u'name': u'Gravis Marketin...</td>\n",
       "    </tr>\n",
       "    <tr>\n",
       "      <th>3</th>\n",
       "      <td>None</td>\n",
       "      <td>2012-11-03</td>\n",
       "      <td>16680</td>\n",
       "      <td>2012-11-06T14:42:12.000Z</td>\n",
       "      <td>Automated Phone</td>\n",
       "      <td>Nonpartisan</td>\n",
       "      <td>MPRC</td>\n",
       "      <td>[{u'topic': u'2012-president', u'subpopulation...</td>\n",
       "      <td>http://www.mprc.me/research/mprc_1103can12.pdf</td>\n",
       "      <td>[]</td>\n",
       "      <td>2012-11-01</td>\n",
       "      <td>[{u'party': u'N/A', u'name': u'Maine People's ...</td>\n",
       "    </tr>\n",
       "    <tr>\n",
       "      <th>4</th>\n",
       "      <td>None</td>\n",
       "      <td>2012-11-05</td>\n",
       "      <td>16679</td>\n",
       "      <td>2012-11-06T13:59:40.000Z</td>\n",
       "      <td>Live Phone</td>\n",
       "      <td>Nonpartisan</td>\n",
       "      <td>IBD/TIPP</td>\n",
       "      <td>[{u'topic': u'2012-president', u'subpopulation...</td>\n",
       "      <td>http://news.investors.com/special-report/50841...</td>\n",
       "      <td>[{u'party': u'N/A', u'name': u'Investor's Busi...</td>\n",
       "      <td>2012-11-03</td>\n",
       "      <td>[{u'party': u'N/A', u'name': u'TIPP'}]</td>\n",
       "    </tr>\n",
       "  </tbody>\n",
       "</table>\n",
       "</div>"
      ],
      "text/plain": [
       "  affiliation    end_date     id              last_updated           method  \\\n",
       "0        None  2012-11-05  16733  2012-11-26T20:49:27.000Z         Internet   \n",
       "1         Rep  2012-11-04  16684  2012-11-06T14:58:10.000Z  Automated Phone   \n",
       "2        None  2012-11-05  16681  2012-11-06T14:27:40.000Z  Automated Phone   \n",
       "3        None  2012-11-03  16680  2012-11-06T14:42:12.000Z  Automated Phone   \n",
       "4        None  2012-11-05  16679  2012-11-06T13:59:40.000Z       Live Phone   \n",
       "\n",
       "      partisan           pollster  \\\n",
       "0  Nonpartisan   YouGov/Economist   \n",
       "1     Pollster  Mitchell Research   \n",
       "2  Nonpartisan   Gravis Marketing   \n",
       "3  Nonpartisan               MPRC   \n",
       "4  Nonpartisan           IBD/TIPP   \n",
       "\n",
       "                                           questions  \\\n",
       "0  [{u'topic': u'', u'subpopulations': [{u'respon...   \n",
       "1  [{u'topic': u'2012-president', u'subpopulation...   \n",
       "2  [{u'topic': u'2012-president', u'subpopulation...   \n",
       "3  [{u'topic': u'2012-president', u'subpopulation...   \n",
       "4  [{u'topic': u'2012-president', u'subpopulation...   \n",
       "\n",
       "                                              source  \\\n",
       "0  http://cdn.yougov.com/cumulus_uploads/document...   \n",
       "1  http://www.michiganview.com/article/20121104/M...   \n",
       "2  http://www.gravispolls.com/2012/11/gravis-mark...   \n",
       "3     http://www.mprc.me/research/mprc_1103can12.pdf   \n",
       "4  http://news.investors.com/special-report/50841...   \n",
       "\n",
       "                                            sponsors  start_date  \\\n",
       "0        [{u'party': u'N/A', u'name': u'Economist'}]  2012-11-03   \n",
       "1                                                 []  2012-11-04   \n",
       "2                                                 []  2012-11-03   \n",
       "3                                                 []  2012-11-01   \n",
       "4  [{u'party': u'N/A', u'name': u'Investor's Busi...  2012-11-03   \n",
       "\n",
       "                                       survey_houses  \n",
       "0           [{u'party': u'N/A', u'name': u'YouGov'}]  \n",
       "1  [{u'party': u'Rep', u'name': u'Mitchell Resear...  \n",
       "2  [{u'party': u'N/A', u'name': u'Gravis Marketin...  \n",
       "3  [{u'party': u'N/A', u'name': u'Maine People's ...  \n",
       "4             [{u'party': u'N/A', u'name': u'TIPP'}]  "
      ]
     },
     "execution_count": 54,
     "metadata": {},
     "output_type": "execute_result"
    }
   ],
   "source": [
    "election.head()"
   ]
  },
  {
   "cell_type": "markdown",
   "metadata": {},
   "source": [
    "How many polls were conducted in November? Define this number as M.  \n",
    "\n",
    "**Hint**: Subset the `election` DataFrame for only dates in the `Start Date` column that are in November 2012.  "
   ]
  },
  {
   "cell_type": "code",
   "execution_count": 16,
   "metadata": {
    "collapsed": false
   },
   "outputs": [],
   "source": [
    "#your code here"
   ]
  },
  {
   "cell_type": "markdown",
   "metadata": {},
   "source": [
    "Answer:"
   ]
  },
  {
   "cell_type": "markdown",
   "metadata": {},
   "source": [
    "What was the median of the number of observations in the November polls? Define this quantity as N. "
   ]
  },
  {
   "cell_type": "code",
   "execution_count": 17,
   "metadata": {
    "collapsed": false
   },
   "outputs": [],
   "source": [
    "#your code here"
   ]
  },
  {
   "cell_type": "markdown",
   "metadata": {},
   "source": [
    "Answer: "
   ]
  },
  {
   "cell_type": "markdown",
   "metadata": {},
   "source": [
    "#### Problem 2(b)\n",
    "\n",
    "Using the median sample size $N$ from Problem 1(a), simulate the results from a single poll:  simulate the number of votes for Obama out of a sample size $N$ where $p$ = 0.53 is the percent of voters who are voting for Obama.  \n",
    "\n",
    "**Hint**: Use the binomial distribution with parameters $N$ and $p$ = 0.53. "
   ]
  },
  {
   "cell_type": "code",
   "execution_count": 18,
   "metadata": {
    "collapsed": false
   },
   "outputs": [],
   "source": [
    "#your code here"
   ]
  },
  {
   "cell_type": "markdown",
   "metadata": {},
   "source": [
    "Now, perform a Monte Carlo simulation to obtain the estimated percentage of Obama votes with a sample size $N$ where $N$ is the median sample size calculated in Problem 2(a). Let $p$=0.53 be the percent of voters are voting for Obama. \n",
    "\n",
    "**Hint**: You will repeat the simulation above 1,000 times and plot the distribution of the estimated *percent* of Obama votes from a single poll.  The results from the single poll you simulate is random variable and will be different every time you sample. "
   ]
  },
  {
   "cell_type": "code",
   "execution_count": 19,
   "metadata": {
    "collapsed": false
   },
   "outputs": [],
   "source": [
    "#your code here"
   ]
  },
  {
   "cell_type": "markdown",
   "metadata": {},
   "source": [
    "Plot the distribution of the estimated percentage of Obama votes from your single poll. What is the distribution of the estimated percentage of Obama votes? "
   ]
  },
  {
   "cell_type": "code",
   "execution_count": 20,
   "metadata": {
    "collapsed": false
   },
   "outputs": [],
   "source": [
    "#your code here"
   ]
  },
  {
   "cell_type": "markdown",
   "metadata": {},
   "source": [
    "Answer: "
   ]
  },
  {
   "cell_type": "markdown",
   "metadata": {},
   "source": [
    "What is the standard error (SE) of the estimated percentage from the poll. \n",
    "\n",
    "**Hint**: Remember the SE is the standard deviation (SD) of the distribution of a random variable. "
   ]
  },
  {
   "cell_type": "code",
   "execution_count": 21,
   "metadata": {
    "collapsed": false
   },
   "outputs": [],
   "source": [
    "#your code here"
   ]
  },
  {
   "cell_type": "markdown",
   "metadata": {},
   "source": [
    "#### Problem 2(c)\n",
    "\n",
    "Now suppose we run M polls where M is the number of polls that happened in November (calculated in Problem 2(a)). Run 1,000 simulations and compute the mean of the M polls for each simulation. "
   ]
  },
  {
   "cell_type": "code",
   "execution_count": 22,
   "metadata": {
    "collapsed": false
   },
   "outputs": [],
   "source": [
    "#your code here"
   ]
  },
  {
   "cell_type": "markdown",
   "metadata": {},
   "source": [
    "What is the distribution of the average of polls?\n",
    "\n",
    "**Hint**: Show a plot. "
   ]
  },
  {
   "cell_type": "code",
   "execution_count": 23,
   "metadata": {
    "collapsed": false
   },
   "outputs": [],
   "source": [
    "#your code here"
   ]
  },
  {
   "cell_type": "markdown",
   "metadata": {},
   "source": [
    "Answer: "
   ]
  },
  {
   "cell_type": "markdown",
   "metadata": {},
   "source": [
    "What is the standard error (SE) of the average of polls? "
   ]
  },
  {
   "cell_type": "code",
   "execution_count": 24,
   "metadata": {
    "collapsed": false
   },
   "outputs": [],
   "source": [
    "#your code here"
   ]
  },
  {
   "cell_type": "markdown",
   "metadata": {},
   "source": [
    "Answer: "
   ]
  },
  {
   "cell_type": "markdown",
   "metadata": {},
   "source": [
    "Is the SE of the average of polls larger, the same, or smaller than that the SD of a single poll (calculated in Problem 2(b))? By how much?\n",
    "\n",
    "**Hint**: Compute a ratio of the two quantities.  "
   ]
  },
  {
   "cell_type": "code",
   "execution_count": 25,
   "metadata": {
    "collapsed": false
   },
   "outputs": [],
   "source": [
    "#your code here"
   ]
  },
  {
   "cell_type": "markdown",
   "metadata": {},
   "source": [
    "Answer: "
   ]
  },
  {
   "cell_type": "markdown",
   "metadata": {},
   "source": [
    "#### Problem 2(d) \n",
    "\n",
    "Repeat Problem 2(c) but now record the *across poll* standard deviation in each simulation. "
   ]
  },
  {
   "cell_type": "code",
   "execution_count": 26,
   "metadata": {
    "collapsed": false
   },
   "outputs": [],
   "source": [
    "#your code here"
   ]
  },
  {
   "cell_type": "markdown",
   "metadata": {},
   "source": [
    "What is the distribution of the *across M polls* standard deviation?\n",
    "\n",
    "**Hint**: Show a plot. "
   ]
  },
  {
   "cell_type": "code",
   "execution_count": 27,
   "metadata": {
    "collapsed": false
   },
   "outputs": [],
   "source": [
    "#your code here"
   ]
  },
  {
   "cell_type": "markdown",
   "metadata": {},
   "source": [
    "Answer: "
   ]
  },
  {
   "cell_type": "markdown",
   "metadata": {},
   "source": [
    "#### Problem 2(e) \n",
    "\n",
    "What is the standard deviation of M polls in our real (not simulated) 2012 presidential election data ? "
   ]
  },
  {
   "cell_type": "code",
   "execution_count": 28,
   "metadata": {
    "collapsed": false
   },
   "outputs": [],
   "source": [
    "#your code here"
   ]
  },
  {
   "cell_type": "markdown",
   "metadata": {},
   "source": [
    "Is this larger, the same, or smaller than what we expeced if polls were not biased."
   ]
  },
  {
   "cell_type": "code",
   "execution_count": 29,
   "metadata": {
    "collapsed": false
   },
   "outputs": [],
   "source": [
    "#your code here"
   ]
  },
  {
   "cell_type": "markdown",
   "metadata": {},
   "source": [
    "Answer: "
   ]
  },
  {
   "cell_type": "markdown",
   "metadata": {},
   "source": [
    "#### Problem 2(f)\n",
    "\n",
    "**For AC209 Students**: Learn about the normal approximation for the binomial distribution and derive the results of Problem 2(b) and 2(c) analytically (using this approximation). Compare the results obtained analytically to those obtained from simulations."
   ]
  },
  {
   "cell_type": "code",
   "execution_count": 30,
   "metadata": {
    "collapsed": false
   },
   "outputs": [],
   "source": [
    "#your code here"
   ]
  },
  {
   "cell_type": "markdown",
   "metadata": {},
   "source": [
    "Answer: "
   ]
  },
  {
   "cell_type": "markdown",
   "metadata": {},
   "source": [
    "## Discussion for Problem 2\n",
    "\n",
    "*Write a brief discussion of your conclusions to the questions and tasks above in 100 words or less.*\n",
    "\n",
    "---\n"
   ]
  },
  {
   "cell_type": "markdown",
   "metadata": {},
   "source": [
    "## Problem 3: Is the average of polls better than just one poll?"
   ]
  },
  {
   "cell_type": "markdown",
   "metadata": {},
   "source": [
    "#### Problem 3(a)\n",
    "\n",
    "Most undecided voters vote for one of the two candidates at the election. Therefore, the reported percentages underestimate the final value of both candidates. However, if we assume the undecided will split evenly, then the observed difference should be an unbiased estimate of the final difference. \n",
    "\n",
    "Add a new column to the `election` DataFrame containg the difference between Obama and Romeny called `Diff`. "
   ]
  },
  {
   "cell_type": "code",
   "execution_count": 31,
   "metadata": {
    "collapsed": false
   },
   "outputs": [],
   "source": [
    "#your code here"
   ]
  },
  {
   "cell_type": "markdown",
   "metadata": {},
   "source": [
    "#### Problem 3(b)\n",
    "\n",
    "Make a plot of the differences for the week before the election (e.g. 5 days) where the days are on the x-axis and the differences are on the y-axis.  Add a horizontal line showing 3.9%: the difference between Obama and Romney on election day."
   ]
  },
  {
   "cell_type": "code",
   "execution_count": 32,
   "metadata": {
    "collapsed": false
   },
   "outputs": [],
   "source": [
    "#your code here"
   ]
  },
  {
   "cell_type": "markdown",
   "metadata": {},
   "source": [
    "#### Problem 3(c) \n",
    "\n",
    "Make a plot showing the differences by pollster where the pollsters are on the x-axis and the differences on the y-axis. "
   ]
  },
  {
   "cell_type": "code",
   "execution_count": 33,
   "metadata": {
    "collapsed": false
   },
   "outputs": [],
   "source": [
    "#your code here"
   ]
  },
  {
   "cell_type": "markdown",
   "metadata": {},
   "source": [
    "Is the *across poll* difference larger than the *between pollster* difference? "
   ]
  },
  {
   "cell_type": "markdown",
   "metadata": {},
   "source": [
    "Answer: "
   ]
  },
  {
   "cell_type": "markdown",
   "metadata": {},
   "source": [
    "#### Problem 3(d)\n",
    "\n",
    "Take the average for each pollster and then compute the average of that. Given this difference how confident would you have been of an Obama victory?\n",
    "\n",
    "**Hint**: Compute an estimate of the SE of this average based exclusively on the observed data. "
   ]
  },
  {
   "cell_type": "code",
   "execution_count": 34,
   "metadata": {
    "collapsed": false
   },
   "outputs": [],
   "source": [
    "#your code here"
   ]
  },
  {
   "cell_type": "markdown",
   "metadata": {},
   "source": [
    "Answer: "
   ]
  },
  {
   "cell_type": "markdown",
   "metadata": {},
   "source": [
    "#### Problem 3(e)\n",
    "\n",
    "**For AC209 Students**: Show the difference against time and see if you can detect a trend towards the end. Use this trend to see if it improves the final estimate."
   ]
  },
  {
   "cell_type": "code",
   "execution_count": 35,
   "metadata": {
    "collapsed": false
   },
   "outputs": [],
   "source": [
    "#your code here"
   ]
  },
  {
   "cell_type": "markdown",
   "metadata": {},
   "source": [
    "Answer: "
   ]
  },
  {
   "cell_type": "markdown",
   "metadata": {},
   "source": [
    "## Discussion for Problem 3\n",
    "\n",
    "*Write a brief discussion of your conclusions to the questions and tasks above in 100 words or less.*\n",
    "\n",
    "---\n"
   ]
  },
  {
   "cell_type": "markdown",
   "metadata": {},
   "source": [
    "## Problem 4\n",
    "\n",
    "In this last problem, we will use the polls from the [2014 Senate Midterm Elections](http://elections.huffingtonpost.com/pollster) from the [HuffPost Pollster API](http://elections.huffingtonpost.com/pollster/api) to create a preliminary prediction of the result of each state. \n",
    "\n",
    "The HuffPost Pollster API allows you to access the data as a CSV or a JSON response by tacking \".csv\" or \".json\" at the end of the URLs. For example the 2012 Presidential Election could be accessed as a [.json](http://elections.huffingtonpost.com/pollster/2012-general-election-romney-vs-obama.json) instead of a [.csv](http://elections.huffingtonpost.com/pollster/2012-general-election-romney-vs-obama.csv)"
   ]
  },
  {
   "cell_type": "markdown",
   "metadata": {},
   "source": [
    "#### Problem 4(a)\n",
    "\n",
    "Read in the polls for **all** of the 2014 Senate Elections using the HuffPost API. For example, we can consider the [2014 Senate race in Kentucky between Mitch McConnell and Alison Grimes](http://elections.huffingtonpost.com/pollster/2014-kentucky-senate-mcconnell-vs-grimes). \n",
    "\n",
    "To search for the 2014 Senate races, use the `topics` parameter in the API [[read more about topics here](http://elections.huffingtonpost.com/pollster/api)].  "
   ]
  },
  {
   "cell_type": "code",
   "execution_count": 55,
   "metadata": {
    "collapsed": false
   },
   "outputs": [],
   "source": [
    "url_str = \"http://elections.huffingtonpost.com/pollster/api/charts/?topic=2014-senate\""
   ]
  },
  {
   "cell_type": "markdown",
   "metadata": {},
   "source": [
    "To list all the URLs related to the 2014 Senate races using the pollster API, we can use a list comprehension:"
   ]
  },
  {
   "cell_type": "code",
   "execution_count": 57,
   "metadata": {
    "collapsed": false
   },
   "outputs": [
    {
     "name": "stdout",
     "output_type": "stream",
     "text": [
      "36\n"
     ]
    },
    {
     "data": {
      "text/plain": [
       "[u'http://elections.huffingtonpost.com/pollster/2014-delaware-senate-wade-vs-coons.csv',\n",
       " u'http://elections.huffingtonpost.com/pollster/2014-massachusetts-senate-herr-vs-markey.csv',\n",
       " u'http://elections.huffingtonpost.com/pollster/2014-rhode-island-senate-zaccaria-vs-reed.csv',\n",
       " u'http://elections.huffingtonpost.com/pollster/2014-montana-senate-daines-vs-curtis.csv',\n",
       " u'http://elections.huffingtonpost.com/pollster/2014-oklahoma-senate-lankford-vs-johnson.csv',\n",
       " u'http://elections.huffingtonpost.com/pollster/2014-hawaii-senate-cavasso-vs-schatz.csv',\n",
       " u'http://elections.huffingtonpost.com/pollster/2014-kansas-senate-roberts-vs-orman-vs-taylor.csv',\n",
       " u'http://elections.huffingtonpost.com/pollster/2014-wyoming-senate.csv',\n",
       " u'http://elections.huffingtonpost.com/pollster/2014-tennessee-senate-alexander-vs-ball.csv',\n",
       " u'http://elections.huffingtonpost.com/pollster/2014-idaho-senate-risch-vs-mitchell.csv']"
      ]
     },
     "execution_count": 57,
     "metadata": {},
     "output_type": "execute_result"
    }
   ],
   "source": [
    "election_urls = [election['url'] + '.csv' for election in requests.get(url_str).json()]\n",
    "print len(election_urls)\n",
    "election_urls[:10]"
   ]
  },
  {
   "cell_type": "markdown",
   "metadata": {},
   "source": [
    "Because there so many Senate races, we can create a dictionary of pandas DataFrames that will be keyed by the name of the election (a string). "
   ]
  },
  {
   "cell_type": "code",
   "execution_count": 38,
   "metadata": {
    "collapsed": false
   },
   "outputs": [],
   "source": [
    "def build_frame(url):\n",
    "    \"\"\"\n",
    "    Returns a pandas DataFrame object containing\n",
    "    the data returned from the given url\n",
    "    \"\"\"\n",
    "    source = requests.get(url).text\n",
    "    \n",
    "    # Use StringIO because pd.DataFrame.from_csv requires .read() method\n",
    "    s = StringIO(source)\n",
    "    \n",
    "    return pd.DataFrame.from_csv(s, index_col=None).convert_objects(\n",
    "            convert_dates=\"coerce\", convert_numeric=True)"
   ]
  },
  {
   "cell_type": "code",
   "execution_count": 39,
   "metadata": {
    "collapsed": false
   },
   "outputs": [],
   "source": [
    "# Makes a dictionary of pandas DataFrames keyed on election string.\n",
    "dfs = dict((election.split(\"/\")[-1][:-4], build_frame(election)) for election in election_urls)"
   ]
  },
  {
   "cell_type": "markdown",
   "metadata": {},
   "source": [
    "Show the head of the DataFrame containing the polls for the 2014 Senate race in Kentucky between McConnell and Grimes."
   ]
  },
  {
   "cell_type": "code",
   "execution_count": 40,
   "metadata": {
    "collapsed": false
   },
   "outputs": [],
   "source": [
    "#your code here"
   ]
  },
  {
   "cell_type": "markdown",
   "metadata": {},
   "source": [
    "#### Problem 4(b)\n",
    "\n",
    "For each 2014 Senate race, create a preliminary prediction of the result for that state."
   ]
  },
  {
   "cell_type": "code",
   "execution_count": 42,
   "metadata": {
    "collapsed": false
   },
   "outputs": [],
   "source": [
    "#your code here"
   ]
  },
  {
   "cell_type": "markdown",
   "metadata": {},
   "source": [
    "# Submission Instructions\n",
    "\n",
    "To submit your homework, create a folder named **lastname_firstinitial_hw#** and place your IPython notebooks, data files, and any other files in this folder. Your IPython Notebooks should be completely executed with the results visible in the notebook. We should not have to run any code.  Compress the folder (please use .zip compression) and submit to the CS109 dropbox in the appropriate folder. *If we cannot access your work because these directions are not followed correctly, we will not grade your work.*\n"
   ]
  },
  {
   "cell_type": "code",
   "execution_count": null,
   "metadata": {
    "collapsed": false
   },
   "outputs": [],
   "source": []
  }
 ],
 "metadata": {
  "kernelspec": {
   "display_name": "Python 2",
   "language": "python",
   "name": "python2"
  },
  "language_info": {
   "codemirror_mode": {
    "name": "ipython",
    "version": 2
   },
   "file_extension": ".py",
   "mimetype": "text/x-python",
   "name": "python",
   "nbconvert_exporter": "python",
   "pygments_lexer": "ipython2",
   "version": "2.7.11"
  }
 },
 "nbformat": 4,
 "nbformat_minor": 0
}
